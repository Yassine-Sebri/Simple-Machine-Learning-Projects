{
 "cells": [
  {
   "cell_type": "markdown",
   "metadata": {
    "colab_type": "text",
    "id": "0Hlx4wyfZyzy"
   },
   "source": [
    "## 2- Data Cleaning"
   ]
  },
  {
   "cell_type": "code",
   "execution_count": 1,
   "metadata": {
    "colab": {},
    "colab_type": "code",
    "id": "4GdIxZHvZyzS"
   },
   "outputs": [],
   "source": [
    "# Essentials\n",
    "import numpy as np \n",
    "import pandas as pd \n",
    "import matplotlib.pyplot as plt \n",
    "%matplotlib inline\n",
    "\n",
    "# Importing feature engineering library\n",
    "from feature_engine import categorical_encoders as ce"
   ]
  },
  {
   "cell_type": "code",
   "execution_count": 2,
   "metadata": {
    "colab": {
     "base_uri": "https://localhost:8080/",
     "height": 293
    },
    "colab_type": "code",
    "id": "g5ceya35geh8",
    "outputId": "0bc7b4b5-7972-469f-e153-b5de00ece1eb"
   },
   "outputs": [
    {
     "data": {
      "text/html": [
       "<div>\n",
       "<style scoped>\n",
       "    .dataframe tbody tr th:only-of-type {\n",
       "        vertical-align: middle;\n",
       "    }\n",
       "\n",
       "    .dataframe tbody tr th {\n",
       "        vertical-align: top;\n",
       "    }\n",
       "\n",
       "    .dataframe thead th {\n",
       "        text-align: right;\n",
       "    }\n",
       "</style>\n",
       "<table border=\"1\" class=\"dataframe\">\n",
       "  <thead>\n",
       "    <tr style=\"text-align: right;\">\n",
       "      <th></th>\n",
       "      <th>url</th>\n",
       "      <th>address</th>\n",
       "      <th>neighborhood</th>\n",
       "      <th>rent</th>\n",
       "      <th>beds</th>\n",
       "      <th>baths</th>\n",
       "    </tr>\n",
       "  </thead>\n",
       "  <tbody>\n",
       "    <tr>\n",
       "      <th>0</th>\n",
       "      <td>https://www.renthop.com/listings/382-wadsworth...</td>\n",
       "      <td>382 Wadsworth Ave, Apt 4G</td>\n",
       "      <td>Fort George, Washington Heights, Upper Manhatt...</td>\n",
       "      <td>$2,300</td>\n",
       "      <td>2_Bed</td>\n",
       "      <td>1_Bath</td>\n",
       "    </tr>\n",
       "    <tr>\n",
       "      <th>1</th>\n",
       "      <td>https://www.renthop.com/listings/162-east-33rd...</td>\n",
       "      <td>162 East 33rd Street, Apt 3TW</td>\n",
       "      <td>Rose Hill, Kips Bay, Midtown Manhattan, Manhattan</td>\n",
       "      <td>$3,500</td>\n",
       "      <td>2_Bed</td>\n",
       "      <td>1_Bath</td>\n",
       "    </tr>\n",
       "    <tr>\n",
       "      <th>2</th>\n",
       "      <td>https://www.renthop.com/listings/400-east-71st...</td>\n",
       "      <td>400 East 71st Street, Apt 12DE...</td>\n",
       "      <td>Upper East Side, Upper Manhattan, Manhattan</td>\n",
       "      <td>$5,795</td>\n",
       "      <td>3_Bed</td>\n",
       "      <td>2_Bath</td>\n",
       "    </tr>\n",
       "    <tr>\n",
       "      <th>3</th>\n",
       "      <td>https://www.renthop.com/listings/814-10th-aven...</td>\n",
       "      <td>814 10th Avenue, Apt 7C</td>\n",
       "      <td>Hell's Kitchen, Midtown Manhattan, Manhattan</td>\n",
       "      <td>$2,225</td>\n",
       "      <td>Studio</td>\n",
       "      <td>1_Bath</td>\n",
       "    </tr>\n",
       "    <tr>\n",
       "      <th>4</th>\n",
       "      <td>https://www.renthop.com/listings/100-west-31st...</td>\n",
       "      <td>100 West 31st Street, Apt 36G</td>\n",
       "      <td>Chelsea, Midtown Manhattan, Manhattan</td>\n",
       "      <td>$5,030</td>\n",
       "      <td>1_Bed</td>\n",
       "      <td>1_Bath</td>\n",
       "    </tr>\n",
       "  </tbody>\n",
       "</table>\n",
       "</div>"
      ],
      "text/plain": [
       "                                                 url  \\\n",
       "0  https://www.renthop.com/listings/382-wadsworth...   \n",
       "1  https://www.renthop.com/listings/162-east-33rd...   \n",
       "2  https://www.renthop.com/listings/400-east-71st...   \n",
       "3  https://www.renthop.com/listings/814-10th-aven...   \n",
       "4  https://www.renthop.com/listings/100-west-31st...   \n",
       "\n",
       "                             address  \\\n",
       "0          382 Wadsworth Ave, Apt 4G   \n",
       "1      162 East 33rd Street, Apt 3TW   \n",
       "2  400 East 71st Street, Apt 12DE...   \n",
       "3            814 10th Avenue, Apt 7C   \n",
       "4      100 West 31st Street, Apt 36G   \n",
       "\n",
       "                                        neighborhood    rent    beds   baths  \n",
       "0  Fort George, Washington Heights, Upper Manhatt...  $2,300   2_Bed  1_Bath  \n",
       "1  Rose Hill, Kips Bay, Midtown Manhattan, Manhattan  $3,500   2_Bed  1_Bath  \n",
       "2        Upper East Side, Upper Manhattan, Manhattan  $5,795   3_Bed  2_Bath  \n",
       "3       Hell's Kitchen, Midtown Manhattan, Manhattan  $2,225  Studio  1_Bath  \n",
       "4              Chelsea, Midtown Manhattan, Manhattan  $5,030   1_Bed  1_Bath  "
      ]
     },
     "execution_count": 2,
     "metadata": {},
     "output_type": "execute_result"
    }
   ],
   "source": [
    "# Loading raw data\n",
    "df = pd.read_csv('Apartments_raw.csv', index_col='Unnamed: 0')\n",
    "df.head()"
   ]
  },
  {
   "cell_type": "code",
   "execution_count": 3,
   "metadata": {
    "colab": {
     "base_uri": "https://localhost:8080/",
     "height": 139
    },
    "colab_type": "code",
    "id": "xhOTkvgbhIzZ",
    "outputId": "96aafa0b-2acf-4e63-d2f0-749b9caf677b"
   },
   "outputs": [
    {
     "data": {
      "text/plain": [
       "url             0.0000\n",
       "address         0.0005\n",
       "neighborhood    0.0000\n",
       "rent            0.0000\n",
       "beds            0.0000\n",
       "baths           0.0000\n",
       "dtype: float64"
      ]
     },
     "execution_count": 3,
     "metadata": {},
     "output_type": "execute_result"
    }
   ],
   "source": [
    "# Checking for missing values\n",
    "df.isnull().mean()"
   ]
  },
  {
   "cell_type": "code",
   "execution_count": 4,
   "metadata": {
    "colab": {},
    "colab_type": "code",
    "id": "eKNP5DhihVjU"
   },
   "outputs": [],
   "source": [
    "# Dropping columns with missing adress\n",
    "df.dropna(axis=0, inplace=True)"
   ]
  },
  {
   "cell_type": "code",
   "execution_count": 5,
   "metadata": {
    "colab": {
     "base_uri": "https://localhost:8080/",
     "height": 104
    },
    "colab_type": "code",
    "id": "FwLuelgnh24_",
    "outputId": "db9364c2-66b8-41f0-a8b0-98e27de3ea7c"
   },
   "outputs": [
    {
     "name": "stdout",
     "output_type": "stream",
     "text": [
      "['2_Bed' '3_Bed' 'Studio' '1_Bed' 'Loft' '4_Bed' '5_Bed' 'Room' '_2_Bed'\n",
      " '7_Bed' '_1_Bed' '_Studio' '6_Bed' '_4_Bed' '_3_Bed']\n",
      "['1_Bath' '2_Bath' '3_Bath' '5_Bath' '_1_Bath' '1.5_Bath' '4_Bath'\n",
      " '_2_Bath' '2.5_Bath' '3.5_Bath' '7_Bath' '4.5_Bath' '5.5_Bath' '_3_Bath'\n",
      " '6_Bath']\n"
     ]
    }
   ],
   "source": [
    "# Checking the unique values of beds and baths columns\n",
    "print(df['beds'].unique())\n",
    "print(df['baths'].unique())"
   ]
  },
  {
   "cell_type": "code",
   "execution_count": 6,
   "metadata": {
    "colab": {},
    "colab_type": "code",
    "id": "Nfnc6w2miPwi"
   },
   "outputs": [],
   "source": [
    "# Correcting some of the values\n",
    "df['beds'] = df['beds'].map(lambda x: x[1:] if x.startswith('_') else x) \n",
    "df['baths'] = df['baths'].map(lambda x: x[1:] if x.startswith('_') else x)"
   ]
  },
  {
   "cell_type": "code",
   "execution_count": 7,
   "metadata": {
    "colab": {
     "base_uri": "https://localhost:8080/",
     "height": 86
    },
    "colab_type": "code",
    "id": "IgOBc-huiliO",
    "outputId": "04b93017-e557-4d7b-c0a8-ebeadb4ba31b"
   },
   "outputs": [
    {
     "name": "stdout",
     "output_type": "stream",
     "text": [
      "['2_Bed' '3_Bed' 'Studio' '1_Bed' 'Loft' '4_Bed' '5_Bed' 'Room' '7_Bed'\n",
      " '6_Bed']\n",
      "['1_Bath' '2_Bath' '3_Bath' '5_Bath' '1.5_Bath' '4_Bath' '2.5_Bath'\n",
      " '3.5_Bath' '7_Bath' '4.5_Bath' '5.5_Bath' '6_Bath']\n"
     ]
    }
   ],
   "source": [
    "# Checking the result\n",
    "print(df['beds'].unique())\n",
    "print(df['baths'].unique())"
   ]
  },
  {
   "cell_type": "code",
   "execution_count": 8,
   "metadata": {
    "colab": {},
    "colab_type": "code",
    "id": "_MpQkJb8ojPg"
   },
   "outputs": [],
   "source": [
    "# Dropping duplicate rows\n",
    "df.drop_duplicates(inplace=True)"
   ]
  },
  {
   "cell_type": "code",
   "execution_count": 9,
   "metadata": {
    "colab": {
     "base_uri": "https://localhost:8080/",
     "height": 192
    },
    "colab_type": "code",
    "id": "67v1RBgjitJm",
    "outputId": "66a7abcf-1842-44c3-e5c7-ce073ff12fa4"
   },
   "outputs": [
    {
     "data": {
      "text/html": [
       "<div>\n",
       "<style scoped>\n",
       "    .dataframe tbody tr th:only-of-type {\n",
       "        vertical-align: middle;\n",
       "    }\n",
       "\n",
       "    .dataframe tbody tr th {\n",
       "        vertical-align: top;\n",
       "    }\n",
       "\n",
       "    .dataframe thead th {\n",
       "        text-align: right;\n",
       "    }\n",
       "</style>\n",
       "<table border=\"1\" class=\"dataframe\">\n",
       "  <thead>\n",
       "    <tr style=\"text-align: right;\">\n",
       "      <th></th>\n",
       "      <th>url</th>\n",
       "      <th>address</th>\n",
       "      <th>neighborhood</th>\n",
       "      <th>rent</th>\n",
       "      <th>beds</th>\n",
       "      <th>baths</th>\n",
       "    </tr>\n",
       "  </thead>\n",
       "  <tbody>\n",
       "    <tr>\n",
       "      <th>count</th>\n",
       "      <td>9443</td>\n",
       "      <td>9443</td>\n",
       "      <td>9443</td>\n",
       "      <td>9443</td>\n",
       "      <td>9443</td>\n",
       "      <td>9443</td>\n",
       "    </tr>\n",
       "    <tr>\n",
       "      <th>unique</th>\n",
       "      <td>9436</td>\n",
       "      <td>6255</td>\n",
       "      <td>210</td>\n",
       "      <td>1834</td>\n",
       "      <td>10</td>\n",
       "      <td>12</td>\n",
       "    </tr>\n",
       "    <tr>\n",
       "      <th>top</th>\n",
       "      <td>https://www.renthop.com/listings/71-east-110th...</td>\n",
       "      <td>Gold Street</td>\n",
       "      <td>Financial District, Downtown Manhattan, Manhattan</td>\n",
       "      <td>$2,500</td>\n",
       "      <td>1_Bed</td>\n",
       "      <td>1_Bath</td>\n",
       "    </tr>\n",
       "    <tr>\n",
       "      <th>freq</th>\n",
       "      <td>2</td>\n",
       "      <td>62</td>\n",
       "      <td>775</td>\n",
       "      <td>124</td>\n",
       "      <td>3706</td>\n",
       "      <td>7309</td>\n",
       "    </tr>\n",
       "  </tbody>\n",
       "</table>\n",
       "</div>"
      ],
      "text/plain": [
       "                                                      url      address  \\\n",
       "count                                                9443         9443   \n",
       "unique                                               9436         6255   \n",
       "top     https://www.renthop.com/listings/71-east-110th...  Gold Street   \n",
       "freq                                                    2           62   \n",
       "\n",
       "                                             neighborhood    rent   beds  \\\n",
       "count                                                9443    9443   9443   \n",
       "unique                                                210    1834     10   \n",
       "top     Financial District, Downtown Manhattan, Manhattan  $2,500  1_Bed   \n",
       "freq                                                  775     124   3706   \n",
       "\n",
       "         baths  \n",
       "count     9443  \n",
       "unique      12  \n",
       "top     1_Bath  \n",
       "freq      7309  "
      ]
     },
     "execution_count": 9,
     "metadata": {},
     "output_type": "execute_result"
    }
   ],
   "source": [
    "# Looking at some descriptive statistics to better understand the data\n",
    "df.describe()"
   ]
  },
  {
   "cell_type": "code",
   "execution_count": 10,
   "metadata": {
    "colab": {},
    "colab_type": "code",
    "id": "b9nqufFbjOC2"
   },
   "outputs": [],
   "source": [
    "# Performing some transformations\n",
    "df['rent'] = df['rent'].map(lambda x: str(x).replace('$','').replace(',','')).astype('int') \n",
    "df['beds'] = df['beds'].map(lambda x: x.replace('_Bed', '')) \n",
    "df['beds'] = df['beds'].map(lambda x: x.replace('Studio', '0')) \n",
    "df['beds'] = df['beds'].map(lambda x: x.replace('Room', '0'))\n",
    "df['beds'] = df['beds'].map(lambda x: x.replace('Loft', '0')).astype('int') \n",
    "df['baths'] = df['baths'].map(lambda x: x.replace('_Bath', '')).astype('float')"
   ]
  },
  {
   "cell_type": "code",
   "execution_count": 11,
   "metadata": {
    "colab": {
     "base_uri": "https://localhost:8080/",
     "height": 139
    },
    "colab_type": "code",
    "id": "M7qvMyf3mJpO",
    "outputId": "9e050324-2dc4-40dd-ec20-c417a49886ed"
   },
   "outputs": [
    {
     "data": {
      "text/plain": [
       "url              object\n",
       "address          object\n",
       "neighborhood     object\n",
       "rent              int64\n",
       "beds              int64\n",
       "baths           float64\n",
       "dtype: object"
      ]
     },
     "execution_count": 11,
     "metadata": {},
     "output_type": "execute_result"
    }
   ],
   "source": [
    "# Checking the new dtypes\n",
    "df.dtypes"
   ]
  },
  {
   "cell_type": "code",
   "execution_count": 12,
   "metadata": {
    "colab": {
     "base_uri": "https://localhost:8080/",
     "height": 455
    },
    "colab_type": "code",
    "id": "5I8Rh2HNmgeM",
    "outputId": "7e9143ca-3b4e-4991-81c1-54aac7fd802d"
   },
   "outputs": [
    {
     "data": {
      "text/html": [
       "<div>\n",
       "<style scoped>\n",
       "    .dataframe tbody tr th:only-of-type {\n",
       "        vertical-align: middle;\n",
       "    }\n",
       "\n",
       "    .dataframe tbody tr th {\n",
       "        vertical-align: top;\n",
       "    }\n",
       "\n",
       "    .dataframe thead th {\n",
       "        text-align: right;\n",
       "    }\n",
       "</style>\n",
       "<table border=\"1\" class=\"dataframe\">\n",
       "  <thead>\n",
       "    <tr style=\"text-align: right;\">\n",
       "      <th></th>\n",
       "      <th>count</th>\n",
       "    </tr>\n",
       "    <tr>\n",
       "      <th>neighborhood</th>\n",
       "      <th></th>\n",
       "    </tr>\n",
       "  </thead>\n",
       "  <tbody>\n",
       "    <tr>\n",
       "      <th>Financial District, Downtown Manhattan, Manhattan</th>\n",
       "      <td>775</td>\n",
       "    </tr>\n",
       "    <tr>\n",
       "      <th>Hell's Kitchen, Midtown Manhattan, Manhattan</th>\n",
       "      <td>705</td>\n",
       "    </tr>\n",
       "    <tr>\n",
       "      <th>Upper East Side, Upper Manhattan, Manhattan</th>\n",
       "      <td>542</td>\n",
       "    </tr>\n",
       "    <tr>\n",
       "      <th>Yorkville, Upper East Side, Upper Manhattan, Manhattan</th>\n",
       "      <td>472</td>\n",
       "    </tr>\n",
       "    <tr>\n",
       "      <th>Murray Hill, Midtown Manhattan, Manhattan</th>\n",
       "      <td>370</td>\n",
       "    </tr>\n",
       "    <tr>\n",
       "      <th>...</th>\n",
       "      <td>...</td>\n",
       "    </tr>\n",
       "    <tr>\n",
       "      <th>Kingsbridge, Bronx</th>\n",
       "      <td>1</td>\n",
       "    </tr>\n",
       "    <tr>\n",
       "      <th>Journal Square, Jersey City</th>\n",
       "      <td>1</td>\n",
       "    </tr>\n",
       "    <tr>\n",
       "      <th>Hunters Point, Long Island City, Northwestern Queens, Queens</th>\n",
       "      <td>1</td>\n",
       "    </tr>\n",
       "    <tr>\n",
       "      <th>Blissville, Northwestern Queens, Queens</th>\n",
       "      <td>1</td>\n",
       "    </tr>\n",
       "    <tr>\n",
       "      <th>Bayswater, Far Rockaway, Rockaway Peninsula, Queens</th>\n",
       "      <td>1</td>\n",
       "    </tr>\n",
       "  </tbody>\n",
       "</table>\n",
       "<p>210 rows × 1 columns</p>\n",
       "</div>"
      ],
      "text/plain": [
       "                                                    count\n",
       "neighborhood                                             \n",
       "Financial District, Downtown Manhattan, Manhattan     775\n",
       "Hell's Kitchen, Midtown Manhattan, Manhattan          705\n",
       "Upper East Side, Upper Manhattan, Manhattan           542\n",
       "Yorkville, Upper East Side, Upper Manhattan, Ma...    472\n",
       "Murray Hill, Midtown Manhattan, Manhattan             370\n",
       "...                                                   ...\n",
       "Kingsbridge, Bronx                                      1\n",
       "Journal Square, Jersey City                             1\n",
       "Hunters Point, Long Island City, Northwestern Q...      1\n",
       "Blissville, Northwestern Queens, Queens                 1\n",
       "Bayswater, Far Rockaway, Rockaway Peninsula, Qu...      1\n",
       "\n",
       "[210 rows x 1 columns]"
      ]
     },
     "execution_count": 12,
     "metadata": {},
     "output_type": "execute_result"
    }
   ],
   "source": [
    "# Checking the number of apartment offers by neighborhood\n",
    "df.groupby('neighborhood')['rent'].count().to_frame('count').sort_values(by='count', ascending=False)"
   ]
  },
  {
   "cell_type": "code",
   "execution_count": 13,
   "metadata": {
    "colab": {},
    "colab_type": "code",
    "id": "Myz_t5-epVUs"
   },
   "outputs": [],
   "source": [
    "# Cleaning the neighborhood strings\n",
    "df['neighborhood'] = df['neighborhood'].map(lambda x: x.strip())"
   ]
  },
  {
   "cell_type": "code",
   "execution_count": 14,
   "metadata": {
    "colab": {
     "base_uri": "https://localhost:8080/",
     "height": 455
    },
    "colab_type": "code",
    "id": "ihXp2Ww_qQrj",
    "outputId": "43408f52-331f-42cc-ff53-81c8b685f17b"
   },
   "outputs": [
    {
     "data": {
      "text/html": [
       "<div>\n",
       "<style scoped>\n",
       "    .dataframe tbody tr th:only-of-type {\n",
       "        vertical-align: middle;\n",
       "    }\n",
       "\n",
       "    .dataframe tbody tr th {\n",
       "        vertical-align: top;\n",
       "    }\n",
       "\n",
       "    .dataframe thead th {\n",
       "        text-align: right;\n",
       "    }\n",
       "</style>\n",
       "<table border=\"1\" class=\"dataframe\">\n",
       "  <thead>\n",
       "    <tr style=\"text-align: right;\">\n",
       "      <th></th>\n",
       "      <th>count</th>\n",
       "    </tr>\n",
       "    <tr>\n",
       "      <th>neighborhood</th>\n",
       "      <th></th>\n",
       "    </tr>\n",
       "  </thead>\n",
       "  <tbody>\n",
       "    <tr>\n",
       "      <th>Financial District, Downtown Manhattan, Manhattan</th>\n",
       "      <td>779</td>\n",
       "    </tr>\n",
       "    <tr>\n",
       "      <th>Hell's Kitchen, Midtown Manhattan, Manhattan</th>\n",
       "      <td>706</td>\n",
       "    </tr>\n",
       "    <tr>\n",
       "      <th>Upper East Side, Upper Manhattan, Manhattan</th>\n",
       "      <td>543</td>\n",
       "    </tr>\n",
       "    <tr>\n",
       "      <th>Yorkville, Upper East Side, Upper Manhattan, Manhattan</th>\n",
       "      <td>475</td>\n",
       "    </tr>\n",
       "    <tr>\n",
       "      <th>Murray Hill, Midtown Manhattan, Manhattan</th>\n",
       "      <td>373</td>\n",
       "    </tr>\n",
       "    <tr>\n",
       "      <th>...</th>\n",
       "      <td>...</td>\n",
       "    </tr>\n",
       "    <tr>\n",
       "      <th>Great Neck Plaza, Great Neck, North Hempstead</th>\n",
       "      <td>1</td>\n",
       "    </tr>\n",
       "    <tr>\n",
       "      <th>Blissville, Northwestern Queens, Queens</th>\n",
       "      <td>1</td>\n",
       "    </tr>\n",
       "    <tr>\n",
       "      <th>Mount Hope, West Bronx, Bronx</th>\n",
       "      <td>1</td>\n",
       "    </tr>\n",
       "    <tr>\n",
       "      <th>East Midwood, Midwood, Central Brooklyn, Brooklyn</th>\n",
       "      <td>1</td>\n",
       "    </tr>\n",
       "    <tr>\n",
       "      <th>Lawrence Park, Yonkers</th>\n",
       "      <td>1</td>\n",
       "    </tr>\n",
       "  </tbody>\n",
       "</table>\n",
       "<p>186 rows × 1 columns</p>\n",
       "</div>"
      ],
      "text/plain": [
       "                                                    count\n",
       "neighborhood                                             \n",
       "Financial District, Downtown Manhattan, Manhattan     779\n",
       "Hell's Kitchen, Midtown Manhattan, Manhattan          706\n",
       "Upper East Side, Upper Manhattan, Manhattan           543\n",
       "Yorkville, Upper East Side, Upper Manhattan, Ma...    475\n",
       "Murray Hill, Midtown Manhattan, Manhattan             373\n",
       "...                                                   ...\n",
       "Great Neck Plaza, Great Neck, North Hempstead           1\n",
       "Blissville, Northwestern Queens, Queens                 1\n",
       "Mount Hope, West Bronx, Bronx                           1\n",
       "East Midwood, Midwood, Central Brooklyn, Brooklyn       1\n",
       "Lawrence Park, Yonkers                                  1\n",
       "\n",
       "[186 rows x 1 columns]"
      ]
     },
     "execution_count": 14,
     "metadata": {},
     "output_type": "execute_result"
    }
   ],
   "source": [
    "# Checking the difference\n",
    "df.groupby('neighborhood')['rent'].count().to_frame('count').sort_values(by='count', ascending=False)"
   ]
  },
  {
   "cell_type": "code",
   "execution_count": 15,
   "metadata": {
    "colab": {},
    "colab_type": "code",
    "id": "cHLsl09rspiK"
   },
   "outputs": [],
   "source": [
    "# Grouping neighborhoods with low frequency into \"Rare\" category\n",
    "encoder = ce.RareLabelCategoricalEncoder(tol=0.005, variables=['neighborhood'])\n",
    "encoder.fit(df)\n",
    "df_t = encoder.transform(df)"
   ]
  },
  {
   "cell_type": "code",
   "execution_count": 16,
   "metadata": {
    "colab": {
     "base_uri": "https://localhost:8080/",
     "height": 34
    },
    "colab_type": "code",
    "id": "NQ5N-TjTtRRJ",
    "outputId": "952e894f-2063-4777-b76c-4ab785354909"
   },
   "outputs": [
    {
     "name": "stdout",
     "output_type": "stream",
     "text": [
      "43\n"
     ]
    }
   ],
   "source": [
    "# Dropping rows belonging to \"Rare\" category \n",
    "df_t = df_t[df_t['neighborhood'] != 'Rare'].reset_index(drop=True)\n",
    "# Checking how many unique neighborhoods are left\n",
    "print(len(df_t['neighborhood'].unique()))"
   ]
  },
  {
   "cell_type": "code",
   "execution_count": 17,
   "metadata": {
    "colab": {},
    "colab_type": "code",
    "id": "OAyQHq3CxoJ4"
   },
   "outputs": [],
   "source": [
    "# Dropping high cardinality variables\n",
    "df_t.drop(['url', 'address'], axis=1,inplace=True)"
   ]
  },
  {
   "cell_type": "code",
   "execution_count": 18,
   "metadata": {
    "colab": {
     "base_uri": "https://localhost:8080/",
     "height": 243
    },
    "colab_type": "code",
    "id": "PB83Fg0M2p4z",
    "outputId": "7a397e49-87b1-4e44-f81c-1bc804da7a77"
   },
   "outputs": [
    {
     "name": "stdout",
     "output_type": "stream",
     "text": [
      "1    3241\n",
      "2    2184\n",
      "0    1643\n",
      "3     805\n",
      "4     235\n",
      "5      30\n",
      "6       9\n",
      "7       3\n",
      "Name: beds, dtype: int64\n",
      "1.0    6291\n",
      "2.0    1567\n",
      "3.0     171\n",
      "1.5      44\n",
      "4.0      26\n",
      "2.5      23\n",
      "5.0      16\n",
      "3.5       6\n",
      "4.5       2\n",
      "7.0       2\n",
      "6.0       1\n",
      "5.5       1\n",
      "Name: baths, dtype: int64\n"
     ]
    }
   ],
   "source": [
    "# Checking the value counts\n",
    "print(df_t.beds.value_counts())\n",
    "print(df_t.baths.value_counts())"
   ]
  },
  {
   "cell_type": "code",
   "execution_count": 19,
   "metadata": {
    "colab": {},
    "colab_type": "code",
    "id": "kT6XMaLd3kME"
   },
   "outputs": [],
   "source": [
    "# Grouping low frequency values together\n",
    "df_t['beds'] = df_t['beds'].map(lambda x: x if x < 4 else 4)\n",
    "df_t['baths'] = df_t['baths'].map(lambda x: x if x <= 3 else 4)"
   ]
  },
  {
   "cell_type": "code",
   "execution_count": 20,
   "metadata": {
    "colab": {
     "base_uri": "https://localhost:8080/",
     "height": 206
    },
    "colab_type": "code",
    "id": "bd8TRi8q6FYV",
    "outputId": "57e9e784-0322-46a4-ce33-dbbabd2a266a"
   },
   "outputs": [
    {
     "data": {
      "text/html": [
       "<div>\n",
       "<style scoped>\n",
       "    .dataframe tbody tr th:only-of-type {\n",
       "        vertical-align: middle;\n",
       "    }\n",
       "\n",
       "    .dataframe tbody tr th {\n",
       "        vertical-align: top;\n",
       "    }\n",
       "\n",
       "    .dataframe thead th {\n",
       "        text-align: right;\n",
       "    }\n",
       "</style>\n",
       "<table border=\"1\" class=\"dataframe\">\n",
       "  <thead>\n",
       "    <tr style=\"text-align: right;\">\n",
       "      <th></th>\n",
       "      <th>neighborhood</th>\n",
       "      <th>rent</th>\n",
       "      <th>beds</th>\n",
       "      <th>baths</th>\n",
       "    </tr>\n",
       "  </thead>\n",
       "  <tbody>\n",
       "    <tr>\n",
       "      <th>0</th>\n",
       "      <td>Rose Hill, Kips Bay, Midtown Manhattan, Manhattan</td>\n",
       "      <td>3500</td>\n",
       "      <td>2</td>\n",
       "      <td>1.0</td>\n",
       "    </tr>\n",
       "    <tr>\n",
       "      <th>1</th>\n",
       "      <td>Upper East Side, Upper Manhattan, Manhattan</td>\n",
       "      <td>5795</td>\n",
       "      <td>3</td>\n",
       "      <td>2.0</td>\n",
       "    </tr>\n",
       "    <tr>\n",
       "      <th>2</th>\n",
       "      <td>Hell's Kitchen, Midtown Manhattan, Manhattan</td>\n",
       "      <td>2225</td>\n",
       "      <td>0</td>\n",
       "      <td>1.0</td>\n",
       "    </tr>\n",
       "    <tr>\n",
       "      <th>3</th>\n",
       "      <td>Chelsea, Midtown Manhattan, Manhattan</td>\n",
       "      <td>5030</td>\n",
       "      <td>1</td>\n",
       "      <td>1.0</td>\n",
       "    </tr>\n",
       "    <tr>\n",
       "      <th>4</th>\n",
       "      <td>Hunters Point, Long Island City, Northwestern ...</td>\n",
       "      <td>3559</td>\n",
       "      <td>1</td>\n",
       "      <td>1.0</td>\n",
       "    </tr>\n",
       "  </tbody>\n",
       "</table>\n",
       "</div>"
      ],
      "text/plain": [
       "                                        neighborhood  rent  beds  baths\n",
       "0  Rose Hill, Kips Bay, Midtown Manhattan, Manhattan  3500     2    1.0\n",
       "1        Upper East Side, Upper Manhattan, Manhattan  5795     3    2.0\n",
       "2       Hell's Kitchen, Midtown Manhattan, Manhattan  2225     0    1.0\n",
       "3              Chelsea, Midtown Manhattan, Manhattan  5030     1    1.0\n",
       "4  Hunters Point, Long Island City, Northwestern ...  3559     1    1.0"
      ]
     },
     "execution_count": 20,
     "metadata": {},
     "output_type": "execute_result"
    }
   ],
   "source": [
    "# Checking the cleaned dataframe\n",
    "df_t.head()"
   ]
  },
  {
   "cell_type": "code",
   "execution_count": 21,
   "metadata": {
    "colab": {},
    "colab_type": "code",
    "id": "Ned2j3vY6xc6"
   },
   "outputs": [],
   "source": [
    "# Saving the cleaned dataframe for modeling\n",
    "df_t.to_csv('Apartements_clean.csv')"
   ]
  }
 ],
 "metadata": {
  "colab": {
   "name": "Data Cleaning.ipynb",
   "provenance": []
  },
  "kernelspec": {
   "display_name": "Python 3",
   "language": "python",
   "name": "python3"
  },
  "language_info": {
   "codemirror_mode": {
    "name": "ipython",
    "version": 3
   },
   "file_extension": ".py",
   "mimetype": "text/x-python",
   "name": "python",
   "nbconvert_exporter": "python",
   "pygments_lexer": "ipython3",
   "version": "3.7.4"
  }
 },
 "nbformat": 4,
 "nbformat_minor": 1
}
