{
  "nbformat": 4,
  "nbformat_minor": 0,
  "metadata": {
    "kernelspec": {
      "display_name": "Python 3",
      "language": "python",
      "name": "python3"
    },
    "language_info": {
      "codemirror_mode": {
        "name": "ipython",
        "version": 3
      },
      "file_extension": ".py",
      "mimetype": "text/x-python",
      "name": "python",
      "nbconvert_exporter": "python",
      "pygments_lexer": "ipython3",
      "version": "3.7.4"
    },
    "colab": {
      "name": "Data Gathering.ipynb",
      "provenance": []
    }
  },
  "cells": [
    {
      "cell_type": "markdown",
      "metadata": {
        "id": "0Hlx4wyfZyzy",
        "colab_type": "text"
      },
      "source": [
        "## 1- Data Gathering"
      ]
    },
    {
      "cell_type": "code",
      "metadata": {
        "id": "4GdIxZHvZyzS",
        "colab_type": "code",
        "colab": {}
      },
      "source": [
        "# Essentials\n",
        "import numpy as np \n",
        "import pandas as pd \n",
        "import matplotlib.pyplot as plt \n",
        "%matplotlib inline\n",
        "\n",
        "# Web scraping tools\n",
        "import requests\n",
        "from bs4 import BeautifulSoup"
      ],
      "execution_count": 0,
      "outputs": []
    },
    {
      "cell_type": "code",
      "metadata": {
        "id": "PUN0_vNlZy0E",
        "colab_type": "code",
        "colab": {}
      },
      "source": [
        "# Simple HTTP request\n",
        "r = requests.get('https://www.renthop.com/nyc/apartments-for-rent') "
      ],
      "execution_count": 0,
      "outputs": []
    },
    {
      "cell_type": "code",
      "metadata": {
        "id": "0wXmeam6Zy0W",
        "colab_type": "code",
        "colab": {}
      },
      "source": [
        "# Creating a soup object to parse the appartement data\n",
        "soup = BeautifulSoup(r.content, \"html5lib\")"
      ],
      "execution_count": 0,
      "outputs": []
    },
    {
      "cell_type": "code",
      "metadata": {
        "id": "5MY5IOj-Zy0o",
        "colab_type": "code",
        "colab": {}
      },
      "source": [
        "# Looking for all <div> elements that have a class attribute value containing \"search-info\"\n",
        "listing_divs = soup.select('div[class*=search-info]') "
      ],
      "execution_count": 0,
      "outputs": []
    },
    {
      "cell_type": "code",
      "metadata": {
        "id": "UGLiBtOlZy06",
        "colab_type": "code",
        "colab": {
          "base_uri": "https://localhost:8080/",
          "height": 34
        },
        "outputId": "a075e319-dcfa-4993-8801-f6bdc1c2e9d7"
      },
      "source": [
        "# Checking if the length of \"listing_divs\" is 20 just like the webpage\n",
        "len(listing_divs)"
      ],
      "execution_count": 5,
      "outputs": [
        {
          "output_type": "execute_result",
          "data": {
            "text/plain": [
              "20"
            ]
          },
          "metadata": {
            "tags": []
          },
          "execution_count": 5
        }
      ]
    },
    {
      "cell_type": "code",
      "metadata": {
        "id": "KLspNMfpZy1O",
        "colab_type": "code",
        "colab": {}
      },
      "source": [
        "# Isolating an element of the listing to try to extract information\n",
        "current_listing = listing_divs[0]"
      ],
      "execution_count": 0,
      "outputs": []
    },
    {
      "cell_type": "code",
      "metadata": {
        "id": "iriGI_llZy1f",
        "colab_type": "code",
        "colab": {
          "base_uri": "https://localhost:8080/",
          "height": 69
        },
        "outputId": "75848e57-b161-4a41-fa1b-5f802188bea3"
      },
      "source": [
        "# Extracting the listing's url, address and neighborhood\n",
        "href = current_listing.select('a[id*=title]')[0]['href'] \n",
        "addy = current_listing.select('a[id*=title]')[0].string \n",
        "hood = current_listing.select('div[id*=hood]')[0].string.replace('\\n','')\n",
        "print(href)\n",
        "print(addy)\n",
        "print(hood)"
      ],
      "execution_count": 7,
      "outputs": [
        {
          "output_type": "stream",
          "text": [
            "https://www.renthop.com/listings/382-wadsworth-ave/4g/15761811\n",
            "382 Wadsworth Ave, Apt 4G\n",
            "Fort George, Washington Heights, Upper Manhattan, Manhattan\n"
          ],
          "name": "stdout"
        }
      ]
    },
    {
      "cell_type": "code",
      "metadata": {
        "id": "goZZKwH6Zy2B",
        "colab_type": "code",
        "colab": {
          "base_uri": "https://localhost:8080/",
          "height": 34
        },
        "outputId": "5670700d-8104-4527-ed5f-dec5937ad13f"
      },
      "source": [
        "# Selecting the table containing the price, number of beds and number of baths\n",
        "listing_specs = current_listing.select('table[id*=info] tr')\n",
        "# Extracting the information from the table\n",
        "spec_data = listing_specs[0].text.strip().replace(' ', '_').split()\n",
        "spec_data = list(filter(lambda x: x[0] != '_', spec_data))\n",
        "print(spec_data)"
      ],
      "execution_count": 8,
      "outputs": [
        {
          "output_type": "stream",
          "text": [
            "['$2,300', '2_Bed', '1_Bath']\n"
          ],
          "name": "stdout"
        }
      ]
    },
    {
      "cell_type": "code",
      "metadata": {
        "id": "zDlLt0x1Zy2f",
        "colab_type": "code",
        "colab": {}
      },
      "source": [
        "# Creating a function to extract information from each element of the listing\n",
        "def extract_info(current_listing):\n",
        "    indv_listing = [] \n",
        "    indv_listing.append(current_listing.select('a[id*=title]')[0]['href'])\n",
        "    indv_listing.append(current_listing.select('a[id*=title]')[0].string)\n",
        "    indv_listing.append(current_listing.select('div[id*=hood]')[0].string.replace('\\n',''))    \n",
        "    listing_specs = current_listing.select('table[id*=info] tr')\n",
        "    try:\n",
        "        spec_data = listing_specs[0].text.strip().replace(' ', '_').split()\n",
        "        spec_data = list(filter(lambda x: x != '_' and x[0] != '/' and x[:2] != '_/', spec_data))\n",
        "        indv_listing.extend(spec_data)\n",
        "    except:\n",
        "        indv_listing.extend(np.nan)\n",
        "    return indv_listing"
      ],
      "execution_count": 0,
      "outputs": []
    },
    {
      "cell_type": "code",
      "metadata": {
        "id": "Z7mMdmdlZy2z",
        "colab_type": "code",
        "colab": {
          "base_uri": "https://localhost:8080/",
          "height": 330
        },
        "outputId": "05ffe704-50b0-4c75-df93-b74dfe23fd3c"
      },
      "source": [
        "# Doing the process for the whole listing\n",
        "listing_list = []\n",
        "for listing in listing_divs:\n",
        "    listing_list.append(extract_info(listing))\n",
        "listing_list[:3]"
      ],
      "execution_count": 10,
      "outputs": [
        {
          "output_type": "execute_result",
          "data": {
            "text/plain": [
              "[['https://www.renthop.com/listings/382-wadsworth-ave/4g/15761811',\n",
              "  '382 Wadsworth Ave, Apt 4G',\n",
              "  'Fort George, Washington Heights, Upper Manhattan, Manhattan',\n",
              "  '$2,300',\n",
              "  '2_Bed',\n",
              "  '1_Bath'],\n",
              " ['https://www.renthop.com/listings/162-east-33rd-street/3tw/15775226',\n",
              "  '162 East 33rd Street, Apt 3TW',\n",
              "  'Rose Hill, Kips Bay, Midtown Manhattan, Manhattan',\n",
              "  '$3,500',\n",
              "  '2_Bed',\n",
              "  '1_Bath'],\n",
              " ['https://www.renthop.com/listings/400-east-71st-street/12def/15632907',\n",
              "  '400 East 71st Street, Apt 12DE...',\n",
              "  'Upper East Side, Upper Manhattan, Manhattan',\n",
              "  '$5,795',\n",
              "  '3_Bed',\n",
              "  '2_Bath']]"
            ]
          },
          "metadata": {
            "tags": []
          },
          "execution_count": 10
        }
      ]
    },
    {
      "cell_type": "code",
      "metadata": {
        "id": "AgObsdAUZy3S",
        "colab_type": "code",
        "colab": {}
      },
      "source": [
        "# Defining a function that can parse a whole page\n",
        "def parse_page(page_number):\n",
        "    url_prefix = \"https://www.renthop.com/search/nyc?max_price=50000&min_price=0&page=\"\n",
        "    r = requests.get(url_prefix + str(page_number)) \n",
        "    soup = BeautifulSoup(r.content, \"html5lib\")\n",
        "    listing_divs = soup.select('div[class*=search-info]') \n",
        "    listing_list_page = []\n",
        "    for listing in listing_divs:\n",
        "        listing_list_page.append(extract_info(listing))\n",
        "    return listing_list_page"
      ],
      "execution_count": 0,
      "outputs": []
    },
    {
      "cell_type": "code",
      "metadata": {
        "id": "mSgaQ5_bZy3o",
        "colab_type": "code",
        "colab": {
          "base_uri": "https://localhost:8080/",
          "height": 225
        },
        "outputId": "4939c7bc-2440-44d4-a2f7-54f4bb61fc3e"
      },
      "source": [
        "# Parsing multiple pages\n",
        "all_pages_parsed = []\n",
        "for page_number in range(1, 501):\n",
        "    listing_list_page = parse_page(page_number)\n",
        "    all_pages_parsed += listing_list_page\n",
        "    if page_number % 100 == 0:\n",
        "        print(\"{} pages parsed.\".format(page_number))\n",
        "        print(\"------------------------------------\")\n",
        "print('Parsing done!')\n",
        "print('Gathered data about {} apartments.'.format(len(all_pages_parsed)))"
      ],
      "execution_count": 12,
      "outputs": [
        {
          "output_type": "stream",
          "text": [
            "100 pages parsed.\n",
            "------------------------------------\n",
            "200 pages parsed.\n",
            "------------------------------------\n",
            "300 pages parsed.\n",
            "------------------------------------\n",
            "400 pages parsed.\n",
            "------------------------------------\n",
            "500 pages parsed.\n",
            "------------------------------------\n",
            "Parsing done!\n",
            "Gathered data about 10000 apartments.\n"
          ],
          "name": "stdout"
        }
      ]
    },
    {
      "cell_type": "code",
      "metadata": {
        "id": "AHSL00mOZy33",
        "colab_type": "code",
        "colab": {
          "base_uri": "https://localhost:8080/",
          "height": 206
        },
        "outputId": "6142894b-34bb-420e-dbaf-6900c01d50f9"
      },
      "source": [
        "# Tansforming the parsed data into a Pandas Dataframe\n",
        "df = pd.DataFrame(all_pages_parsed, columns=['url', 'address', 'neighborhood', 'rent', 'beds', 'baths']) \n",
        "df.head()"
      ],
      "execution_count": 13,
      "outputs": [
        {
          "output_type": "execute_result",
          "data": {
            "text/html": [
              "<div>\n",
              "<style scoped>\n",
              "    .dataframe tbody tr th:only-of-type {\n",
              "        vertical-align: middle;\n",
              "    }\n",
              "\n",
              "    .dataframe tbody tr th {\n",
              "        vertical-align: top;\n",
              "    }\n",
              "\n",
              "    .dataframe thead th {\n",
              "        text-align: right;\n",
              "    }\n",
              "</style>\n",
              "<table border=\"1\" class=\"dataframe\">\n",
              "  <thead>\n",
              "    <tr style=\"text-align: right;\">\n",
              "      <th></th>\n",
              "      <th>url</th>\n",
              "      <th>address</th>\n",
              "      <th>neighborhood</th>\n",
              "      <th>rent</th>\n",
              "      <th>beds</th>\n",
              "      <th>baths</th>\n",
              "    </tr>\n",
              "  </thead>\n",
              "  <tbody>\n",
              "    <tr>\n",
              "      <th>0</th>\n",
              "      <td>https://www.renthop.com/listings/382-wadsworth...</td>\n",
              "      <td>382 Wadsworth Ave, Apt 4G</td>\n",
              "      <td>Fort George, Washington Heights, Upper Manhatt...</td>\n",
              "      <td>$2,300</td>\n",
              "      <td>2_Bed</td>\n",
              "      <td>1_Bath</td>\n",
              "    </tr>\n",
              "    <tr>\n",
              "      <th>1</th>\n",
              "      <td>https://www.renthop.com/listings/162-east-33rd...</td>\n",
              "      <td>162 East 33rd Street, Apt 3TW</td>\n",
              "      <td>Rose Hill, Kips Bay, Midtown Manhattan, Manhattan</td>\n",
              "      <td>$3,500</td>\n",
              "      <td>2_Bed</td>\n",
              "      <td>1_Bath</td>\n",
              "    </tr>\n",
              "    <tr>\n",
              "      <th>2</th>\n",
              "      <td>https://www.renthop.com/listings/400-east-71st...</td>\n",
              "      <td>400 East 71st Street, Apt 12DE...</td>\n",
              "      <td>Upper East Side, Upper Manhattan, Manhattan</td>\n",
              "      <td>$5,795</td>\n",
              "      <td>3_Bed</td>\n",
              "      <td>2_Bath</td>\n",
              "    </tr>\n",
              "    <tr>\n",
              "      <th>3</th>\n",
              "      <td>https://www.renthop.com/listings/814-10th-aven...</td>\n",
              "      <td>814 10th Avenue, Apt 7C</td>\n",
              "      <td>Hell's Kitchen, Midtown Manhattan, Manhattan</td>\n",
              "      <td>$2,225</td>\n",
              "      <td>Studio</td>\n",
              "      <td>1_Bath</td>\n",
              "    </tr>\n",
              "    <tr>\n",
              "      <th>4</th>\n",
              "      <td>https://www.renthop.com/listings/100-west-31st...</td>\n",
              "      <td>100 West 31st Street, Apt 36G</td>\n",
              "      <td>Chelsea, Midtown Manhattan, Manhattan</td>\n",
              "      <td>$5,030</td>\n",
              "      <td>1_Bed</td>\n",
              "      <td>1_Bath</td>\n",
              "    </tr>\n",
              "  </tbody>\n",
              "</table>\n",
              "</div>"
            ],
            "text/plain": [
              "                                                 url  ...   baths\n",
              "0  https://www.renthop.com/listings/382-wadsworth...  ...  1_Bath\n",
              "1  https://www.renthop.com/listings/162-east-33rd...  ...  1_Bath\n",
              "2  https://www.renthop.com/listings/400-east-71st...  ...  2_Bath\n",
              "3  https://www.renthop.com/listings/814-10th-aven...  ...  1_Bath\n",
              "4  https://www.renthop.com/listings/100-west-31st...  ...  1_Bath\n",
              "\n",
              "[5 rows x 6 columns]"
            ]
          },
          "metadata": {
            "tags": []
          },
          "execution_count": 13
        }
      ]
    },
    {
      "cell_type": "code",
      "metadata": {
        "id": "eBMZPo6OZy4K",
        "colab_type": "code",
        "colab": {}
      },
      "source": [
        "# Saving the raw Dataframe as csv for easy access\n",
        "df.to_csv('Apparements_raw.csv')"
      ],
      "execution_count": 0,
      "outputs": []
    }
  ]
}