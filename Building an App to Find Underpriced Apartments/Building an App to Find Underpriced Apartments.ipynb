{
 "cells": [
  {
   "cell_type": "code",
   "execution_count": 1,
   "metadata": {},
   "outputs": [],
   "source": [
    "# Essentials\n",
    "import numpy as np \n",
    "import pandas as pd \n",
    "import matplotlib.pyplot as plt \n",
    "%matplotlib inline\n",
    "\n",
    "# for web scraping \n",
    "import requests\n",
    "from bs4 import BeautifulSoup"
   ]
  },
  {
   "cell_type": "code",
   "execution_count": 6,
   "metadata": {},
   "outputs": [],
   "source": [
    "# Simple HTTP request\n",
    "r = requests.get('https://www.renthop.com/nyc/apartments-for-rent') "
   ]
  },
  {
   "cell_type": "code",
   "execution_count": 3,
   "metadata": {},
   "outputs": [],
   "source": [
    "# Creating a soup object to parse the appartement data\n",
    "soup = BeautifulSoup(r.content, \"html5lib\")"
   ]
  },
  {
   "cell_type": "code",
   "execution_count": 5,
   "metadata": {},
   "outputs": [],
   "source": [
    "# Looking for all <div> elements that have a class attribute value containing \"search-info\"\n",
    "listing_divs = soup.select('div[class*=search-info]') "
   ]
  },
  {
   "cell_type": "code",
   "execution_count": 7,
   "metadata": {},
   "outputs": [
    {
     "data": {
      "text/plain": [
       "20"
      ]
     },
     "execution_count": 7,
     "metadata": {},
     "output_type": "execute_result"
    }
   ],
   "source": [
    "# Checking if the length of \"listing_divs\" is 20 just like the webpage\n",
    "len(listing_divs)"
   ]
  },
  {
   "cell_type": "code",
   "execution_count": 8,
   "metadata": {},
   "outputs": [
    {
     "data": {
      "text/plain": [
       "<div class=\"search-info pr-4 pl-4 pr-md-0 pl-md-4 py-2 py-md-0\">\n",
       "<div>\n",
       "<div class=\"float-right align-top font-size-9\">\n",
       "<span class=\"font-gray-2 d-none d-sm-inline-block\">\n",
       "Last 30 min\n",
       "</span>\n",
       "</div>\n",
       "<a class=\"font-size-11 listing-title-link b\" href=\"https://www.renthop.com/listings/162-east-33-st/na/15778745\" id=\"listing-15778745-title\">162 East 33 St</a>\n",
       "<div class=\"font-size-9 overflow-ellipsis\" id=\"listing-15778745-neighborhoods\" style=\"margin-top: -1px;\">\n",
       "Rose Hill, Kips Bay, Midtown Manhattan, Manhattan\n",
       "</div>\n",
       "\n",
       "</div>\n",
       "<div style=\"margin-top: 10px;\">\n",
       "<table id=\"listing-15778745-info\">\n",
       "<tbody><tr>\n",
       "<td class=\"font-size-11 b\" id=\"listing-15778745-price\" style=\"padding: 0px 10px 0px 0px; vertical-align: bottom;\">\n",
       "$3,500\n",
       "</td>\n",
       "<td class=\"font-size-11 b\" style=\"border-left: 1px solid #eeeeee; padding: 0px 10px 0px 10px; vertical-align: bottom;\">\n",
       "<span style=\"color: #444444;\">\n",
       "2 Bed\n",
       "</span>\n",
       "</td>\n",
       "<td class=\"font-size-11 b\" style=\"border-left: 1px solid #eeeeee; padding: 0px 10px 0px 10px; vertical-align: bottom;\">\n",
       "<span style=\"color: #444444;\">1 Bath</span>\n",
       "</td>\n",
       "</tr>\n",
       "</tbody></table>\n",
       "</div>\n",
       "<div class=\"\">\n",
       "<div class=\"font-size-9 overflow-ellipsis\">\n",
       "By Aunt Hmu Ko\n",
       "</div>\n",
       "</div>\n",
       "<div class=\"\" style=\"margin-top: 16px;\">\n",
       "<div class=\"font-size-12 bold check-avail shadow-short text-center mt-2\" onclick='contact_listing_show(\"nyc\", \"15778745\",\n",
       "           \"2 Bedrooms at 162 East 33 St\")' style=\"background-image: linear-gradient(140deg, #2dbd2b, #118d00); background-color: none !important; cursor: pointer; border: 1px solid #005826;\">\n",
       "Check Availability\n",
       "</div>\n",
       "</div>\n",
       "<div class=\"vspace-1\"></div>\n",
       "\n",
       "<div style=\"margin-top: 10px;\">\n",
       "<div class=\"font-size-9\">\n",
       "Laundry in Unit\n",
       "</div>\n",
       "</div>\n",
       "<div class=\"d-block d-md-none\" style=\"height: 15px; width: 100%;\"></div>\n",
       "</div>"
      ]
     },
     "execution_count": 8,
     "metadata": {},
     "output_type": "execute_result"
    }
   ],
   "source": [
    "# Checking the information contained in an element of the listing\n",
    "listing_divs[0]"
   ]
  },
  {
   "cell_type": "code",
   "execution_count": null,
   "metadata": {},
   "outputs": [],
   "source": []
  }
 ],
 "metadata": {
  "kernelspec": {
   "display_name": "Python 3",
   "language": "python",
   "name": "python3"
  },
  "language_info": {
   "codemirror_mode": {
    "name": "ipython",
    "version": 3
   },
   "file_extension": ".py",
   "mimetype": "text/x-python",
   "name": "python",
   "nbconvert_exporter": "python",
   "pygments_lexer": "ipython3",
   "version": "3.7.4"
  }
 },
 "nbformat": 4,
 "nbformat_minor": 2
}
